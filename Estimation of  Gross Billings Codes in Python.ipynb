{
 "cells": [
  {
   "cell_type": "markdown",
   "metadata": {},
   "source": [
    "# Groupon Exercise"
   ]
  },
  {
   "cell_type": "markdown",
   "metadata": {},
   "source": [
    "## Raw Data Analysis"
   ]
  },
  {
   "cell_type": "markdown",
   "metadata": {},
   "source": [
    "### Q4 2013 Raw data"
   ]
  },
  {
   "cell_type": "code",
   "execution_count": 1,
   "metadata": {},
   "outputs": [],
   "source": [
    "import pandas as pd\n",
    "import numpy as np\n",
    "import matplotlib.pyplot as plt\n",
    "import statsmodels.api as sm"
   ]
  },
  {
   "cell_type": "code",
   "execution_count": 2,
   "metadata": {},
   "outputs": [],
   "source": [
    "raw_data = pd.read_excel('Q4_2013_Groupon_North_America_Data_XLSX.xlsx',sheet_name='Q4 2013 Raw Data')"
   ]
  },
  {
   "cell_type": "code",
   "execution_count": 3,
   "metadata": {},
   "outputs": [
    {
     "name": "stdout",
     "output_type": "stream",
     "text": [
      "(138534, 7)\n"
     ]
    },
    {
     "data": {
      "text/html": [
       "<div>\n",
       "<style scoped>\n",
       "    .dataframe tbody tr th:only-of-type {\n",
       "        vertical-align: middle;\n",
       "    }\n",
       "\n",
       "    .dataframe tbody tr th {\n",
       "        vertical-align: top;\n",
       "    }\n",
       "\n",
       "    .dataframe thead th {\n",
       "        text-align: right;\n",
       "    }\n",
       "</style>\n",
       "<table border=\"1\" class=\"dataframe\">\n",
       "  <thead>\n",
       "    <tr style=\"text-align: right;\">\n",
       "      <th></th>\n",
       "      <th>Deal ID</th>\n",
       "      <th>Units Sold</th>\n",
       "      <th>Billings</th>\n",
       "      <th>Start Date</th>\n",
       "      <th>Deal URL</th>\n",
       "      <th>Segment</th>\n",
       "      <th>Inventory Type</th>\n",
       "    </tr>\n",
       "  </thead>\n",
       "  <tbody>\n",
       "    <tr>\n",
       "      <th>0</th>\n",
       "      <td>gr-millevois-tire-service-center</td>\n",
       "      <td>0.0</td>\n",
       "      <td>0.0</td>\n",
       "      <td>2011-11-21</td>\n",
       "      <td>http://www.groupon.com/deals/gr-millevois-tire...</td>\n",
       "      <td>Local</td>\n",
       "      <td>Third - Party</td>\n",
       "    </tr>\n",
       "    <tr>\n",
       "      <th>1</th>\n",
       "      <td>gr-manakeesh-cafe-bakery</td>\n",
       "      <td>0.0</td>\n",
       "      <td>0.0</td>\n",
       "      <td>2011-11-21</td>\n",
       "      <td>http://www.groupon.com/deals/gr-manakeesh-cafe...</td>\n",
       "      <td>Local</td>\n",
       "      <td>Third - Party</td>\n",
       "    </tr>\n",
       "    <tr>\n",
       "      <th>2</th>\n",
       "      <td>gr-phoenix-salon-and-spa</td>\n",
       "      <td>0.0</td>\n",
       "      <td>0.0</td>\n",
       "      <td>2011-11-21</td>\n",
       "      <td>http://www.groupon.com/deals/gr-phoenix-salon-...</td>\n",
       "      <td>Local</td>\n",
       "      <td>Third - Party</td>\n",
       "    </tr>\n",
       "    <tr>\n",
       "      <th>3</th>\n",
       "      <td>gr-hands-in-motion</td>\n",
       "      <td>0.0</td>\n",
       "      <td>0.0</td>\n",
       "      <td>2011-11-21</td>\n",
       "      <td>http://www.groupon.com/deals/gr-hands-in-motion</td>\n",
       "      <td>Local</td>\n",
       "      <td>Third - Party</td>\n",
       "    </tr>\n",
       "    <tr>\n",
       "      <th>4</th>\n",
       "      <td>dc-fd2-bartending-college-allentown-reading</td>\n",
       "      <td>86.8</td>\n",
       "      <td>4253.2</td>\n",
       "      <td>2012-06-06</td>\n",
       "      <td>http://www.groupon.com/deals/dc-fd2-bartending...</td>\n",
       "      <td>Local</td>\n",
       "      <td>Third - Party</td>\n",
       "    </tr>\n",
       "  </tbody>\n",
       "</table>\n",
       "</div>"
      ],
      "text/plain": [
       "                                       Deal ID  Units Sold  Billings  \\\n",
       "0             gr-millevois-tire-service-center         0.0       0.0   \n",
       "1                     gr-manakeesh-cafe-bakery         0.0       0.0   \n",
       "2                     gr-phoenix-salon-and-spa         0.0       0.0   \n",
       "3                           gr-hands-in-motion         0.0       0.0   \n",
       "4  dc-fd2-bartending-college-allentown-reading        86.8    4253.2   \n",
       "\n",
       "  Start Date                                           Deal URL Segment  \\\n",
       "0 2011-11-21  http://www.groupon.com/deals/gr-millevois-tire...   Local   \n",
       "1 2011-11-21  http://www.groupon.com/deals/gr-manakeesh-cafe...   Local   \n",
       "2 2011-11-21  http://www.groupon.com/deals/gr-phoenix-salon-...   Local   \n",
       "3 2011-11-21    http://www.groupon.com/deals/gr-hands-in-motion   Local   \n",
       "4 2012-06-06  http://www.groupon.com/deals/dc-fd2-bartending...   Local   \n",
       "\n",
       "  Inventory Type  \n",
       "0  Third - Party  \n",
       "1  Third - Party  \n",
       "2  Third - Party  \n",
       "3  Third - Party  \n",
       "4  Third - Party  "
      ]
     },
     "execution_count": 3,
     "metadata": {},
     "output_type": "execute_result"
    }
   ],
   "source": [
    "print(raw_data.shape)\n",
    "raw_data.head()"
   ]
  },
  {
   "cell_type": "code",
   "execution_count": 4,
   "metadata": {},
   "outputs": [],
   "source": [
    "df = raw_data.copy(deep=True) \n",
    "df['Start Date'] = pd.to_datetime(df['Start Date'])"
   ]
  },
  {
   "cell_type": "code",
   "execution_count": 5,
   "metadata": {},
   "outputs": [
    {
     "data": {
      "text/plain": [
       "Deal ID           False\n",
       "Units Sold        False\n",
       "Billings          False\n",
       "Start Date        False\n",
       "Deal URL          False\n",
       "Segment           False\n",
       "Inventory Type    False\n",
       "dtype: bool"
      ]
     },
     "execution_count": 5,
     "metadata": {},
     "output_type": "execute_result"
    }
   ],
   "source": [
    "df.isnull().any(axis = 0)"
   ]
  },
  {
   "cell_type": "code",
   "execution_count": 6,
   "metadata": {},
   "outputs": [
    {
     "name": "stdout",
     "output_type": "stream",
     "text": [
      "(0, 7)\n",
      "(0, 7)\n",
      "(0, 7)\n"
     ]
    }
   ],
   "source": [
    "u_0 = df[(df['Units Sold'] == 0) & (df['Billings'] != 0)]\n",
    "u_p = df[(df['Units Sold'] > 0) & (df['Billings'] <= 0)]\n",
    "u_n = df[(df['Units Sold'] < 0) & (df['Billings'] >= 0)]\n",
    "\n",
    "print(u_0 .shape)\n",
    "print(u_p.shape)\n",
    "print(u_n.shape)"
   ]
  },
  {
   "cell_type": "markdown",
   "metadata": {},
   "source": [
    "## Data Adjustments"
   ]
  },
  {
   "cell_type": "markdown",
   "metadata": {},
   "source": [
    "### Creating New Metrics and Cleaning Outliers"
   ]
  },
  {
   "cell_type": "markdown",
   "metadata": {},
   "source": [
    "Active Days = the number of days between the Start Date and 2014-01-01  \n",
    "Daily Billings = Billings / Active Days  \n",
    "Unit Prices = Billings / Unit Sold  "
   ]
  },
  {
   "cell_type": "code",
   "execution_count": 7,
   "metadata": {},
   "outputs": [],
   "source": [
    "d1 = pd.to_datetime('2014-01-01')\n",
    "active_days = (d1 - df['Start Date'])\n",
    "df.insert(4,'Active Days',active_days)\n",
    "\n",
    "daily_billing = df['Billings'] / df['Active Days'].dt.days\n",
    "df.insert(5,'Daily Billings',daily_billing)\n",
    "\n",
    "unit_price = df['Billings'] / df['Units Sold']\n",
    "df.insert(3,'Unit Prices',unit_price)"
   ]
  },
  {
   "cell_type": "code",
   "execution_count": 8,
   "metadata": {
    "scrolled": false
   },
   "outputs": [
    {
     "data": {
      "text/html": [
       "<div>\n",
       "<style scoped>\n",
       "    .dataframe tbody tr th:only-of-type {\n",
       "        vertical-align: middle;\n",
       "    }\n",
       "\n",
       "    .dataframe tbody tr th {\n",
       "        vertical-align: top;\n",
       "    }\n",
       "\n",
       "    .dataframe thead th {\n",
       "        text-align: right;\n",
       "    }\n",
       "</style>\n",
       "<table border=\"1\" class=\"dataframe\">\n",
       "  <thead>\n",
       "    <tr style=\"text-align: right;\">\n",
       "      <th></th>\n",
       "      <th>Deal ID</th>\n",
       "      <th>Units Sold</th>\n",
       "      <th>Billings</th>\n",
       "      <th>Unit Prices</th>\n",
       "      <th>Start Date</th>\n",
       "      <th>Active Days</th>\n",
       "      <th>Daily Billings</th>\n",
       "      <th>Deal URL</th>\n",
       "      <th>Segment</th>\n",
       "      <th>Inventory Type</th>\n",
       "    </tr>\n",
       "  </thead>\n",
       "  <tbody>\n",
       "    <tr>\n",
       "      <th>0</th>\n",
       "      <td>gr-millevois-tire-service-center</td>\n",
       "      <td>0.0</td>\n",
       "      <td>0.0</td>\n",
       "      <td>NaN</td>\n",
       "      <td>2011-11-21</td>\n",
       "      <td>772 days</td>\n",
       "      <td>0.000000</td>\n",
       "      <td>http://www.groupon.com/deals/gr-millevois-tire...</td>\n",
       "      <td>Local</td>\n",
       "      <td>Third - Party</td>\n",
       "    </tr>\n",
       "    <tr>\n",
       "      <th>1</th>\n",
       "      <td>gr-manakeesh-cafe-bakery</td>\n",
       "      <td>0.0</td>\n",
       "      <td>0.0</td>\n",
       "      <td>NaN</td>\n",
       "      <td>2011-11-21</td>\n",
       "      <td>772 days</td>\n",
       "      <td>0.000000</td>\n",
       "      <td>http://www.groupon.com/deals/gr-manakeesh-cafe...</td>\n",
       "      <td>Local</td>\n",
       "      <td>Third - Party</td>\n",
       "    </tr>\n",
       "    <tr>\n",
       "      <th>2</th>\n",
       "      <td>gr-phoenix-salon-and-spa</td>\n",
       "      <td>0.0</td>\n",
       "      <td>0.0</td>\n",
       "      <td>NaN</td>\n",
       "      <td>2011-11-21</td>\n",
       "      <td>772 days</td>\n",
       "      <td>0.000000</td>\n",
       "      <td>http://www.groupon.com/deals/gr-phoenix-salon-...</td>\n",
       "      <td>Local</td>\n",
       "      <td>Third - Party</td>\n",
       "    </tr>\n",
       "    <tr>\n",
       "      <th>3</th>\n",
       "      <td>gr-hands-in-motion</td>\n",
       "      <td>0.0</td>\n",
       "      <td>0.0</td>\n",
       "      <td>NaN</td>\n",
       "      <td>2011-11-21</td>\n",
       "      <td>772 days</td>\n",
       "      <td>0.000000</td>\n",
       "      <td>http://www.groupon.com/deals/gr-hands-in-motion</td>\n",
       "      <td>Local</td>\n",
       "      <td>Third - Party</td>\n",
       "    </tr>\n",
       "    <tr>\n",
       "      <th>4</th>\n",
       "      <td>dc-fd2-bartending-college-allentown-reading</td>\n",
       "      <td>86.8</td>\n",
       "      <td>4253.2</td>\n",
       "      <td>49.0</td>\n",
       "      <td>2012-06-06</td>\n",
       "      <td>574 days</td>\n",
       "      <td>7.409756</td>\n",
       "      <td>http://www.groupon.com/deals/dc-fd2-bartending...</td>\n",
       "      <td>Local</td>\n",
       "      <td>Third - Party</td>\n",
       "    </tr>\n",
       "  </tbody>\n",
       "</table>\n",
       "</div>"
      ],
      "text/plain": [
       "                                       Deal ID  Units Sold  Billings  \\\n",
       "0             gr-millevois-tire-service-center         0.0       0.0   \n",
       "1                     gr-manakeesh-cafe-bakery         0.0       0.0   \n",
       "2                     gr-phoenix-salon-and-spa         0.0       0.0   \n",
       "3                           gr-hands-in-motion         0.0       0.0   \n",
       "4  dc-fd2-bartending-college-allentown-reading        86.8    4253.2   \n",
       "\n",
       "   Unit Prices Start Date Active Days  Daily Billings  \\\n",
       "0          NaN 2011-11-21    772 days        0.000000   \n",
       "1          NaN 2011-11-21    772 days        0.000000   \n",
       "2          NaN 2011-11-21    772 days        0.000000   \n",
       "3          NaN 2011-11-21    772 days        0.000000   \n",
       "4         49.0 2012-06-06    574 days        7.409756   \n",
       "\n",
       "                                            Deal URL Segment Inventory Type  \n",
       "0  http://www.groupon.com/deals/gr-millevois-tire...   Local  Third - Party  \n",
       "1  http://www.groupon.com/deals/gr-manakeesh-cafe...   Local  Third - Party  \n",
       "2  http://www.groupon.com/deals/gr-phoenix-salon-...   Local  Third - Party  \n",
       "3    http://www.groupon.com/deals/gr-hands-in-motion   Local  Third - Party  \n",
       "4  http://www.groupon.com/deals/dc-fd2-bartending...   Local  Third - Party  "
      ]
     },
     "execution_count": 8,
     "metadata": {},
     "output_type": "execute_result"
    }
   ],
   "source": [
    "df.head()"
   ]
  },
  {
   "cell_type": "markdown",
   "metadata": {},
   "source": [
    "let’s have a look at some basic descriptive statistics of new metrics:"
   ]
  },
  {
   "cell_type": "code",
   "execution_count": 9,
   "metadata": {},
   "outputs": [
    {
     "data": {
      "text/plain": [
       "count    1.117600e+05\n",
       "mean     1.120983e+14\n",
       "std      1.365227e+16\n",
       "min      1.000000e-02\n",
       "25%      2.207685e+01\n",
       "50%      3.900000e+01\n",
       "75%      6.500000e+01\n",
       "max      3.461016e+18\n",
       "dtype: float64"
      ]
     },
     "execution_count": 9,
     "metadata": {},
     "output_type": "execute_result"
    }
   ],
   "source": [
    "unit_price_nonNaN = unit_price.dropna()\n",
    "unit_price_nonNaN.describe()"
   ]
  },
  {
   "cell_type": "code",
   "execution_count": 10,
   "metadata": {
    "scrolled": true
   },
   "outputs": [
    {
     "data": {
      "text/plain": [
       "count    138534.000000\n",
       "mean        159.823401\n",
       "std        1284.711307\n",
       "min       -1503.677299\n",
       "25%           0.507850\n",
       "50%           8.046202\n",
       "75%          56.402327\n",
       "max      229885.000000\n",
       "dtype: float64"
      ]
     },
     "execution_count": 10,
     "metadata": {},
     "output_type": "execute_result"
    }
   ],
   "source": [
    "daily_billing.describe()"
   ]
  },
  {
   "cell_type": "markdown",
   "metadata": {},
   "source": [
    "The statistics of Daily Billings look fine. But we can find the mean, standard deviation and maximum of Unit Prices are extremely high. This is abnormal for online deals."
   ]
  },
  {
   "cell_type": "code",
   "execution_count": 11,
   "metadata": {},
   "outputs": [],
   "source": [
    "q1 = unit_price_nonNaN.quantile(0.25)\n",
    "q3 = unit_price_nonNaN.quantile(0.75)\n",
    "iqr = q3 - q1\n",
    "min_unit_price = q1 - 1.5*iqr \n",
    "max_unit_price = q3 + 1.5*iqr "
   ]
  },
  {
   "cell_type": "code",
   "execution_count": 12,
   "metadata": {},
   "outputs": [
    {
     "data": {
      "text/plain": [
       "-42.307882837110036"
      ]
     },
     "execution_count": 12,
     "metadata": {},
     "output_type": "execute_result"
    }
   ],
   "source": [
    "min_unit_price"
   ]
  },
  {
   "cell_type": "code",
   "execution_count": 13,
   "metadata": {},
   "outputs": [
    {
     "data": {
      "text/plain": [
       "129.384729702266"
      ]
     },
     "execution_count": 13,
     "metadata": {},
     "output_type": "execute_result"
    }
   ],
   "source": [
    "max_unit_price"
   ]
  },
  {
   "cell_type": "code",
   "execution_count": 14,
   "metadata": {},
   "outputs": [
    {
     "data": {
      "text/plain": [
       "2898.9999999999995"
      ]
     },
     "execution_count": 14,
     "metadata": {},
     "output_type": "execute_result"
    }
   ],
   "source": [
    "unit_price_nonNaN.quantile(0.999)"
   ]
  },
  {
   "cell_type": "markdown",
   "metadata": {},
   "source": [
    "If we use boxplot to find outliers in Unit Prices, the lower boundary is Q1 -1.5*IQR = -42.31, the upper boundary is Q3 + 1.5*IQR = 129.38. The upper boundary is too strict for our data set, it’s pretty normal that the price of a product is higher than $130. "
   ]
  },
  {
   "cell_type": "markdown",
   "metadata": {},
   "source": [
    " I set 100,000 as the upper boundary for Unit Prices, which means if the unit price of a deal is greater than 100,000, the deal will be regarded as an outlier.   \n",
    "\n",
    "As we can take the Units Sold as given, the only part we can adjust is Billings. For the outliers, we can use the URL to find the true Unit Prices. But the outliers’ sold units are extremely small. If I adjust the outliers’ Billings by multiplying their Units Sold and true Unit Price, I’ll get some very small Billings, which won’t have a big impact on the Total Gross Billings. So, I directly deleted the outliers. \n"
   ]
  },
  {
   "cell_type": "code",
   "execution_count": 15,
   "metadata": {},
   "outputs": [],
   "source": [
    "df_outliers = df[(df['Unit Prices'] > 100000)]\n",
    "df_cleaned = df.append(df_outliers)\n",
    "df_cleaned = df_cleaned.drop_duplicates(keep=False)"
   ]
  },
  {
   "cell_type": "markdown",
   "metadata": {},
   "source": [
    "### Adjustment for Missing Deals on Oct 20-30, 2013 of the Local Segment"
   ]
  },
  {
   "cell_type": "markdown",
   "metadata": {},
   "source": [
    "Total Billings of the Missing Deals on Oct 20-30, 2013  \n",
    "= sum( Total Billings of the Missing Deals on Each Day)  \n",
    "= sum( Numbers of New Deals Launched on Each Day * Active Days * Average Daily Billings)  "
   ]
  },
  {
   "cell_type": "code",
   "execution_count": 16,
   "metadata": {},
   "outputs": [],
   "source": [
    "local = df_cleaned[(df_cleaned['Segment'] == 'Local')]"
   ]
  },
  {
   "cell_type": "code",
   "execution_count": 17,
   "metadata": {
    "scrolled": false
   },
   "outputs": [
    {
     "data": {
      "text/plain": [
       "count    120532.000000\n",
       "mean         72.654963\n",
       "std         510.974406\n",
       "min        -858.515358\n",
       "25%           0.237636\n",
       "50%           5.773019\n",
       "75%          34.153603\n",
       "max       75000.000000\n",
       "Name: Daily Billings, dtype: float64"
      ]
     },
     "execution_count": 17,
     "metadata": {},
     "output_type": "execute_result"
    }
   ],
   "source": [
    "local['Daily Billings'].describe()"
   ]
  },
  {
   "cell_type": "markdown",
   "metadata": {},
   "source": [
    "### Numbers of New Deals (Active in 4Q13) Launched on Each Day"
   ]
  },
  {
   "cell_type": "code",
   "execution_count": 18,
   "metadata": {},
   "outputs": [],
   "source": [
    "number_new_deals = local.groupby(['Start Date']).count()\n",
    "number_new_deals = number_new_deals['Deal ID']\n",
    "number_new_deals_2013 = number_new_deals[150:]"
   ]
  },
  {
   "cell_type": "code",
   "execution_count": 19,
   "metadata": {},
   "outputs": [
    {
     "name": "stderr",
     "output_type": "stream",
     "text": [
      "C:\\Users\\MXX\\Anaconda3\\lib\\site-packages\\pandas\\plotting\\_converter.py:129: FutureWarning: Using an implicitly registered datetime converter for a matplotlib plotting method. The converter was registered by pandas on import. Future versions of pandas will require you to explicitly register matplotlib converters.\n",
      "\n",
      "To register the converters:\n",
      "\t>>> from pandas.plotting import register_matplotlib_converters\n",
      "\t>>> register_matplotlib_converters()\n",
      "  warnings.warn(msg, FutureWarning)\n"
     ]
    },
    {
     "data": {
      "image/png": "[encoded data removed]",
      "text/plain": [
       "<matplotlib.figure.Figure at 0x210f36d3550>"
      ]
     },
     "metadata": {},
     "output_type": "display_data"
    }
   ],
   "source": [
    "plt.figure(figsize=(8,6))\n",
    "plt.plot(number_new_deals, color='blue')\n",
    "plt.plot(number_new_deals_2013, color='green')\n",
    "#count.plot()\n",
    "#count2013.plot()\n",
    "plt.legend([\"Before 2013\",\"After 2013\"],loc='upper left')\n",
    "plt.title('Numbers of New Deals' )\n",
    "plt.show()   \n",
    " "
   ]
  },
  {
   "cell_type": "code",
   "execution_count": 20,
   "metadata": {},
   "outputs": [],
   "source": [
    "df_number_new_deals_2013 = {'Date':number_new_deals_2013.index,'Count':number_new_deals_2013.values}\n",
    "df_number_new_deals_2013 = pd.DataFrame(df_number_new_deals_2013)"
   ]
  },
  {
   "cell_type": "code",
   "execution_count": 21,
   "metadata": {},
   "outputs": [],
   "source": [
    "month = df_number_new_deals_2013['Date'].dt.month\n",
    "weekday = df_number_new_deals_2013['Date'].dt.weekday\n",
    "df_number_new_deals_2013.insert(2,'Month', month)\n",
    "df_number_new_deals_2013.insert(2,'Weekday', weekday)"
   ]
  },
  {
   "cell_type": "code",
   "execution_count": 22,
   "metadata": {},
   "outputs": [],
   "source": [
    "dummy_month = pd.get_dummies(df_number_new_deals_2013['Month'],prefix='Month' )\n",
    "dummy_weekday = pd.get_dummies(df_number_new_deals_2013['Weekday'],prefix='Weekday')\n",
    "df_number_new_deals_2013 = pd.concat([df_number_new_deals_2013,dummy_month,dummy_weekday],axis = 1)\n",
    "df_number_new_deals_2013 = df_number_new_deals_2013.drop(columns=['Date','Month','Weekday'])"
   ]
  },
  {
   "cell_type": "code",
   "execution_count": 23,
   "metadata": {},
   "outputs": [
    {
     "data": {
      "text/html": [
       "<div>\n",
       "<style scoped>\n",
       "    .dataframe tbody tr th:only-of-type {\n",
       "        vertical-align: middle;\n",
       "    }\n",
       "\n",
       "    .dataframe tbody tr th {\n",
       "        vertical-align: top;\n",
       "    }\n",
       "\n",
       "    .dataframe thead th {\n",
       "        text-align: right;\n",
       "    }\n",
       "</style>\n",
       "<table border=\"1\" class=\"dataframe\">\n",
       "  <thead>\n",
       "    <tr style=\"text-align: right;\">\n",
       "      <th></th>\n",
       "      <th>Count</th>\n",
       "      <th>Month_1</th>\n",
       "      <th>Month_2</th>\n",
       "      <th>Month_3</th>\n",
       "      <th>Month_4</th>\n",
       "      <th>Month_5</th>\n",
       "      <th>Month_6</th>\n",
       "      <th>Month_7</th>\n",
       "      <th>Month_8</th>\n",
       "      <th>Month_9</th>\n",
       "      <th>Month_10</th>\n",
       "      <th>Month_11</th>\n",
       "      <th>Month_12</th>\n",
       "      <th>Weekday_0</th>\n",
       "      <th>Weekday_1</th>\n",
       "      <th>Weekday_2</th>\n",
       "      <th>Weekday_3</th>\n",
       "      <th>Weekday_4</th>\n",
       "      <th>Weekday_5</th>\n",
       "      <th>Weekday_6</th>\n",
       "    </tr>\n",
       "  </thead>\n",
       "  <tbody>\n",
       "    <tr>\n",
       "      <th>0</th>\n",
       "      <td>65</td>\n",
       "      <td>1</td>\n",
       "      <td>0</td>\n",
       "      <td>0</td>\n",
       "      <td>0</td>\n",
       "      <td>0</td>\n",
       "      <td>0</td>\n",
       "      <td>0</td>\n",
       "      <td>0</td>\n",
       "      <td>0</td>\n",
       "      <td>0</td>\n",
       "      <td>0</td>\n",
       "      <td>0</td>\n",
       "      <td>0</td>\n",
       "      <td>1</td>\n",
       "      <td>0</td>\n",
       "      <td>0</td>\n",
       "      <td>0</td>\n",
       "      <td>0</td>\n",
       "      <td>0</td>\n",
       "    </tr>\n",
       "    <tr>\n",
       "      <th>1</th>\n",
       "      <td>61</td>\n",
       "      <td>1</td>\n",
       "      <td>0</td>\n",
       "      <td>0</td>\n",
       "      <td>0</td>\n",
       "      <td>0</td>\n",
       "      <td>0</td>\n",
       "      <td>0</td>\n",
       "      <td>0</td>\n",
       "      <td>0</td>\n",
       "      <td>0</td>\n",
       "      <td>0</td>\n",
       "      <td>0</td>\n",
       "      <td>0</td>\n",
       "      <td>0</td>\n",
       "      <td>1</td>\n",
       "      <td>0</td>\n",
       "      <td>0</td>\n",
       "      <td>0</td>\n",
       "      <td>0</td>\n",
       "    </tr>\n",
       "    <tr>\n",
       "      <th>2</th>\n",
       "      <td>65</td>\n",
       "      <td>1</td>\n",
       "      <td>0</td>\n",
       "      <td>0</td>\n",
       "      <td>0</td>\n",
       "      <td>0</td>\n",
       "      <td>0</td>\n",
       "      <td>0</td>\n",
       "      <td>0</td>\n",
       "      <td>0</td>\n",
       "      <td>0</td>\n",
       "      <td>0</td>\n",
       "      <td>0</td>\n",
       "      <td>0</td>\n",
       "      <td>0</td>\n",
       "      <td>0</td>\n",
       "      <td>1</td>\n",
       "      <td>0</td>\n",
       "      <td>0</td>\n",
       "      <td>0</td>\n",
       "    </tr>\n",
       "    <tr>\n",
       "      <th>3</th>\n",
       "      <td>65</td>\n",
       "      <td>1</td>\n",
       "      <td>0</td>\n",
       "      <td>0</td>\n",
       "      <td>0</td>\n",
       "      <td>0</td>\n",
       "      <td>0</td>\n",
       "      <td>0</td>\n",
       "      <td>0</td>\n",
       "      <td>0</td>\n",
       "      <td>0</td>\n",
       "      <td>0</td>\n",
       "      <td>0</td>\n",
       "      <td>0</td>\n",
       "      <td>0</td>\n",
       "      <td>0</td>\n",
       "      <td>0</td>\n",
       "      <td>1</td>\n",
       "      <td>0</td>\n",
       "      <td>0</td>\n",
       "    </tr>\n",
       "    <tr>\n",
       "      <th>4</th>\n",
       "      <td>60</td>\n",
       "      <td>1</td>\n",
       "      <td>0</td>\n",
       "      <td>0</td>\n",
       "      <td>0</td>\n",
       "      <td>0</td>\n",
       "      <td>0</td>\n",
       "      <td>0</td>\n",
       "      <td>0</td>\n",
       "      <td>0</td>\n",
       "      <td>0</td>\n",
       "      <td>0</td>\n",
       "      <td>0</td>\n",
       "      <td>0</td>\n",
       "      <td>0</td>\n",
       "      <td>0</td>\n",
       "      <td>0</td>\n",
       "      <td>0</td>\n",
       "      <td>1</td>\n",
       "      <td>0</td>\n",
       "    </tr>\n",
       "  </tbody>\n",
       "</table>\n",
       "</div>"
      ],
      "text/plain": [
       "   Count  Month_1  Month_2  Month_3  Month_4  Month_5  Month_6  Month_7  \\\n",
       "0     65        1        0        0        0        0        0        0   \n",
       "1     61        1        0        0        0        0        0        0   \n",
       "2     65        1        0        0        0        0        0        0   \n",
       "3     65        1        0        0        0        0        0        0   \n",
       "4     60        1        0        0        0        0        0        0   \n",
       "\n",
       "   Month_8  Month_9  Month_10  Month_11  Month_12  Weekday_0  Weekday_1  \\\n",
       "0        0        0         0         0         0          0          1   \n",
       "1        0        0         0         0         0          0          0   \n",
       "2        0        0         0         0         0          0          0   \n",
       "3        0        0         0         0         0          0          0   \n",
       "4        0        0         0         0         0          0          0   \n",
       "\n",
       "   Weekday_2  Weekday_3  Weekday_4  Weekday_5  Weekday_6  \n",
       "0          0          0          0          0          0  \n",
       "1          1          0          0          0          0  \n",
       "2          0          1          0          0          0  \n",
       "3          0          0          1          0          0  \n",
       "4          0          0          0          1          0  "
      ]
     },
     "execution_count": 23,
     "metadata": {},
     "output_type": "execute_result"
    }
   ],
   "source": [
    "df_number_new_deals_2013.head()"
   ]
  },
  {
   "cell_type": "code",
   "execution_count": 24,
   "metadata": {},
   "outputs": [],
   "source": [
    "y = df_number_new_deals_2013.iloc[:,0]\n",
    "x = df_number_new_deals_2013.iloc[:,1:]"
   ]
  },
  {
   "cell_type": "code",
   "execution_count": 25,
   "metadata": {},
   "outputs": [
    {
     "name": "stdout",
     "output_type": "stream",
     "text": [
      "                            OLS Regression Results                            \n",
      "==============================================================================\n",
      "Dep. Variable:                  Count   R-squared:                       0.804\n",
      "Model:                            OLS   Adj. R-squared:                  0.794\n",
      "Method:                 Least Squares   F-statistic:                     80.85\n",
      "Date:                Mon, 06 Apr 2020   Prob (F-statistic):          1.51e-107\n",
      "Time:                        22:51:47   Log-Likelihood:                -2071.2\n",
      "No. Observations:                 354   AIC:                             4178.\n",
      "Df Residuals:                     336   BIC:                             4248.\n",
      "Df Model:                          17                                         \n",
      "Covariance Type:            nonrobust                                         \n",
      "==============================================================================\n",
      "                 coef    std err          t      P>|t|      [0.025      0.975]\n",
      "------------------------------------------------------------------------------\n",
      "Month_1     -130.7687     14.959     -8.742      0.000    -160.194    -101.344\n",
      "Month_2      -82.1272     15.702     -5.230      0.000    -113.014     -51.240\n",
      "Month_3      -34.4121     14.959     -2.300      0.022     -63.838      -4.986\n",
      "Month_4       49.1255     15.196      3.233      0.001      19.233      79.018\n",
      "Month_5       73.2103     14.959      4.894      0.000      43.785     102.635\n",
      "Month_6       52.1212     15.196      3.430      0.001      22.229      82.013\n",
      "Month_7       98.2431     14.960      6.567      0.000      68.816     127.670\n",
      "Month_8      135.7584     14.958      9.076      0.000     106.335     165.182\n",
      "Month_9      196.1321     15.197     12.906      0.000     166.238     226.026\n",
      "Month_10     355.7012     18.514     19.213      0.000     319.284     392.119\n",
      "Month_11     380.6263     15.196     25.049      0.000     350.736     410.517\n",
      "Month_12     369.7807     14.960     24.717      0.000     340.353     399.208\n",
      "Weekday_0    216.9112     11.698     18.542      0.000     193.900     239.922\n",
      "Weekday_1    226.7600     11.570     19.600      0.000     204.002     249.518\n",
      "Weekday_2    240.2291     11.680     20.567      0.000     217.254     263.204\n",
      "Weekday_3    261.2792     11.565     22.593      0.000     238.531     284.028\n",
      "Weekday_4    239.4109     11.570     20.693      0.000     216.653     262.169\n",
      "Weekday_5    159.2362     11.570     13.763      0.000     136.477     181.995\n",
      "Weekday_6    119.5644     11.698     10.221      0.000      96.553     142.575\n",
      "==============================================================================\n",
      "Omnibus:                       11.674   Durbin-Watson:                   1.140\n",
      "Prob(Omnibus):                  0.003   Jarque-Bera (JB):               12.863\n",
      "Skew:                           0.361   Prob(JB):                      0.00161\n",
      "Kurtosis:                       3.593   Cond. No.                     4.60e+15\n",
      "==============================================================================\n",
      "\n",
      "Warnings:\n",
      "[1] Standard Errors assume that the covariance matrix of the errors is correctly specified.\n",
      "[2] The smallest eigenvalue is 3.81e-30. This might indicate that there are\n",
      "strong multicollinearity problems or that the design matrix is singular.\n"
     ]
    }
   ],
   "source": [
    "model = sm.OLS(y, x).fit()\n",
    "print (model.summary())"
   ]
  },
  {
   "cell_type": "code",
   "execution_count": 26,
   "metadata": {},
   "outputs": [],
   "source": [
    "predict_days = pd.date_range(start='20131020', end='20131030')\n",
    "predict_x = {'Date':predict_days}\n",
    "predict_x = pd.DataFrame(predict_x)\n",
    "predict_month = predict_x['Date'].dt.month\n",
    "predict_weekday = predict_x['Date'].dt.weekday\n",
    "predict_x.insert(1,'Month', predict_month)\n",
    "predict_x.insert(1,'Weekday', predict_weekday)"
   ]
  },
  {
   "cell_type": "code",
   "execution_count": 27,
   "metadata": {},
   "outputs": [],
   "source": [
    "predict_dummy_month = pd.get_dummies(predict_x['Month'],prefix='Month' )\n",
    "predict_dummy_weekday = pd.get_dummies(predict_x['Weekday'],prefix='Weekday')\n",
    "predict_x = pd.concat([predict_x,predict_dummy_month,predict_dummy_weekday],axis = 1)\n",
    "predict_x = predict_x.drop(columns=['Date','Month','Weekday'])"
   ]
  },
  {
   "cell_type": "code",
   "execution_count": 28,
   "metadata": {},
   "outputs": [
    {
     "data": {
      "text/html": [
       "<div>\n",
       "<style scoped>\n",
       "    .dataframe tbody tr th:only-of-type {\n",
       "        vertical-align: middle;\n",
       "    }\n",
       "\n",
       "    .dataframe tbody tr th {\n",
       "        vertical-align: top;\n",
       "    }\n",
       "\n",
       "    .dataframe thead th {\n",
       "        text-align: right;\n",
       "    }\n",
       "</style>\n",
       "<table border=\"1\" class=\"dataframe\">\n",
       "  <thead>\n",
       "    <tr style=\"text-align: right;\">\n",
       "      <th></th>\n",
       "      <th>Month_10</th>\n",
       "      <th>Weekday_0</th>\n",
       "      <th>Weekday_1</th>\n",
       "      <th>Weekday_2</th>\n",
       "      <th>Weekday_3</th>\n",
       "      <th>Weekday_4</th>\n",
       "      <th>Weekday_5</th>\n",
       "      <th>Weekday_6</th>\n",
       "    </tr>\n",
       "  </thead>\n",
       "  <tbody>\n",
       "    <tr>\n",
       "      <th>0</th>\n",
       "      <td>1</td>\n",
       "      <td>0</td>\n",
       "      <td>0</td>\n",
       "      <td>0</td>\n",
       "      <td>0</td>\n",
       "      <td>0</td>\n",
       "      <td>0</td>\n",
       "      <td>1</td>\n",
       "    </tr>\n",
       "    <tr>\n",
       "      <th>1</th>\n",
       "      <td>1</td>\n",
       "      <td>1</td>\n",
       "      <td>0</td>\n",
       "      <td>0</td>\n",
       "      <td>0</td>\n",
       "      <td>0</td>\n",
       "      <td>0</td>\n",
       "      <td>0</td>\n",
       "    </tr>\n",
       "    <tr>\n",
       "      <th>2</th>\n",
       "      <td>1</td>\n",
       "      <td>0</td>\n",
       "      <td>1</td>\n",
       "      <td>0</td>\n",
       "      <td>0</td>\n",
       "      <td>0</td>\n",
       "      <td>0</td>\n",
       "      <td>0</td>\n",
       "    </tr>\n",
       "    <tr>\n",
       "      <th>3</th>\n",
       "      <td>1</td>\n",
       "      <td>0</td>\n",
       "      <td>0</td>\n",
       "      <td>1</td>\n",
       "      <td>0</td>\n",
       "      <td>0</td>\n",
       "      <td>0</td>\n",
       "      <td>0</td>\n",
       "    </tr>\n",
       "    <tr>\n",
       "      <th>4</th>\n",
       "      <td>1</td>\n",
       "      <td>0</td>\n",
       "      <td>0</td>\n",
       "      <td>0</td>\n",
       "      <td>1</td>\n",
       "      <td>0</td>\n",
       "      <td>0</td>\n",
       "      <td>0</td>\n",
       "    </tr>\n",
       "  </tbody>\n",
       "</table>\n",
       "</div>"
      ],
      "text/plain": [
       "   Month_10  Weekday_0  Weekday_1  Weekday_2  Weekday_3  Weekday_4  Weekday_5  \\\n",
       "0         1          0          0          0          0          0          0   \n",
       "1         1          1          0          0          0          0          0   \n",
       "2         1          0          1          0          0          0          0   \n",
       "3         1          0          0          1          0          0          0   \n",
       "4         1          0          0          0          1          0          0   \n",
       "\n",
       "   Weekday_6  \n",
       "0          1  \n",
       "1          0  \n",
       "2          0  \n",
       "3          0  \n",
       "4          0  "
      ]
     },
     "execution_count": 28,
     "metadata": {},
     "output_type": "execute_result"
    }
   ],
   "source": [
    "predict_x.head()"
   ]
  },
  {
   "cell_type": "code",
   "execution_count": 29,
   "metadata": {},
   "outputs": [],
   "source": [
    "zero = np.zeros((11,1)).astype(np.uint8)\n",
    "predict_x.insert(1,'Month_12', zero)\n",
    "predict_x.insert(1,'Month_11', zero)\n",
    "predict_x.insert(0,'Month_9', zero)\n",
    "predict_x.insert(0,'Month_8', zero)\n",
    "predict_x.insert(0,'Month_7', zero)\n",
    "predict_x.insert(0,'Month_6', zero)\n",
    "predict_x.insert(0,'Month_5', zero)\n",
    "predict_x.insert(0,'Month_4', zero)\n",
    "predict_x.insert(0,'Month_3', zero)\n",
    "predict_x.insert(0,'Month_2', zero)\n",
    "predict_x.insert(0,'Month_1', zero)"
   ]
  },
  {
   "cell_type": "code",
   "execution_count": 30,
   "metadata": {},
   "outputs": [
    {
     "data": {
      "text/html": [
       "<div>\n",
       "<style scoped>\n",
       "    .dataframe tbody tr th:only-of-type {\n",
       "        vertical-align: middle;\n",
       "    }\n",
       "\n",
       "    .dataframe tbody tr th {\n",
       "        vertical-align: top;\n",
       "    }\n",
       "\n",
       "    .dataframe thead th {\n",
       "        text-align: right;\n",
       "    }\n",
       "</style>\n",
       "<table border=\"1\" class=\"dataframe\">\n",
       "  <thead>\n",
       "    <tr style=\"text-align: right;\">\n",
       "      <th></th>\n",
       "      <th>Month_1</th>\n",
       "      <th>Month_2</th>\n",
       "      <th>Month_3</th>\n",
       "      <th>Month_4</th>\n",
       "      <th>Month_5</th>\n",
       "      <th>Month_6</th>\n",
       "      <th>Month_7</th>\n",
       "      <th>Month_8</th>\n",
       "      <th>Month_9</th>\n",
       "      <th>Month_10</th>\n",
       "      <th>Month_11</th>\n",
       "      <th>Month_12</th>\n",
       "      <th>Weekday_0</th>\n",
       "      <th>Weekday_1</th>\n",
       "      <th>Weekday_2</th>\n",
       "      <th>Weekday_3</th>\n",
       "      <th>Weekday_4</th>\n",
       "      <th>Weekday_5</th>\n",
       "      <th>Weekday_6</th>\n",
       "    </tr>\n",
       "  </thead>\n",
       "  <tbody>\n",
       "    <tr>\n",
       "      <th>0</th>\n",
       "      <td>0</td>\n",
       "      <td>0</td>\n",
       "      <td>0</td>\n",
       "      <td>0</td>\n",
       "      <td>0</td>\n",
       "      <td>0</td>\n",
       "      <td>0</td>\n",
       "      <td>0</td>\n",
       "      <td>0</td>\n",
       "      <td>1</td>\n",
       "      <td>0</td>\n",
       "      <td>0</td>\n",
       "      <td>0</td>\n",
       "      <td>0</td>\n",
       "      <td>0</td>\n",
       "      <td>0</td>\n",
       "      <td>0</td>\n",
       "      <td>0</td>\n",
       "      <td>1</td>\n",
       "    </tr>\n",
       "    <tr>\n",
       "      <th>1</th>\n",
       "      <td>0</td>\n",
       "      <td>0</td>\n",
       "      <td>0</td>\n",
       "      <td>0</td>\n",
       "      <td>0</td>\n",
       "      <td>0</td>\n",
       "      <td>0</td>\n",
       "      <td>0</td>\n",
       "      <td>0</td>\n",
       "      <td>1</td>\n",
       "      <td>0</td>\n",
       "      <td>0</td>\n",
       "      <td>1</td>\n",
       "      <td>0</td>\n",
       "      <td>0</td>\n",
       "      <td>0</td>\n",
       "      <td>0</td>\n",
       "      <td>0</td>\n",
       "      <td>0</td>\n",
       "    </tr>\n",
       "    <tr>\n",
       "      <th>2</th>\n",
       "      <td>0</td>\n",
       "      <td>0</td>\n",
       "      <td>0</td>\n",
       "      <td>0</td>\n",
       "      <td>0</td>\n",
       "      <td>0</td>\n",
       "      <td>0</td>\n",
       "      <td>0</td>\n",
       "      <td>0</td>\n",
       "      <td>1</td>\n",
       "      <td>0</td>\n",
       "      <td>0</td>\n",
       "      <td>0</td>\n",
       "      <td>1</td>\n",
       "      <td>0</td>\n",
       "      <td>0</td>\n",
       "      <td>0</td>\n",
       "      <td>0</td>\n",
       "      <td>0</td>\n",
       "    </tr>\n",
       "    <tr>\n",
       "      <th>3</th>\n",
       "      <td>0</td>\n",
       "      <td>0</td>\n",
       "      <td>0</td>\n",
       "      <td>0</td>\n",
       "      <td>0</td>\n",
       "      <td>0</td>\n",
       "      <td>0</td>\n",
       "      <td>0</td>\n",
       "      <td>0</td>\n",
       "      <td>1</td>\n",
       "      <td>0</td>\n",
       "      <td>0</td>\n",
       "      <td>0</td>\n",
       "      <td>0</td>\n",
       "      <td>1</td>\n",
       "      <td>0</td>\n",
       "      <td>0</td>\n",
       "      <td>0</td>\n",
       "      <td>0</td>\n",
       "    </tr>\n",
       "    <tr>\n",
       "      <th>4</th>\n",
       "      <td>0</td>\n",
       "      <td>0</td>\n",
       "      <td>0</td>\n",
       "      <td>0</td>\n",
       "      <td>0</td>\n",
       "      <td>0</td>\n",
       "      <td>0</td>\n",
       "      <td>0</td>\n",
       "      <td>0</td>\n",
       "      <td>1</td>\n",
       "      <td>0</td>\n",
       "      <td>0</td>\n",
       "      <td>0</td>\n",
       "      <td>0</td>\n",
       "      <td>0</td>\n",
       "      <td>1</td>\n",
       "      <td>0</td>\n",
       "      <td>0</td>\n",
       "      <td>0</td>\n",
       "    </tr>\n",
       "  </tbody>\n",
       "</table>\n",
       "</div>"
      ],
      "text/plain": [
       "   Month_1  Month_2  Month_3  Month_4  Month_5  Month_6  Month_7  Month_8  \\\n",
       "0        0        0        0        0        0        0        0        0   \n",
       "1        0        0        0        0        0        0        0        0   \n",
       "2        0        0        0        0        0        0        0        0   \n",
       "3        0        0        0        0        0        0        0        0   \n",
       "4        0        0        0        0        0        0        0        0   \n",
       "\n",
       "   Month_9  Month_10  Month_11  Month_12  Weekday_0  Weekday_1  Weekday_2  \\\n",
       "0        0         1         0         0          0          0          0   \n",
       "1        0         1         0         0          1          0          0   \n",
       "2        0         1         0         0          0          1          0   \n",
       "3        0         1         0         0          0          0          1   \n",
       "4        0         1         0         0          0          0          0   \n",
       "\n",
       "   Weekday_3  Weekday_4  Weekday_5  Weekday_6  \n",
       "0          0          0          0          1  \n",
       "1          0          0          0          0  \n",
       "2          0          0          0          0  \n",
       "3          0          0          0          0  \n",
       "4          1          0          0          0  "
      ]
     },
     "execution_count": 30,
     "metadata": {},
     "output_type": "execute_result"
    }
   ],
   "source": [
    "predict_x.head()"
   ]
  },
  {
   "cell_type": "code",
   "execution_count": 31,
   "metadata": {},
   "outputs": [],
   "source": [
    "y_predict = model.predict(predict_x)"
   ]
  },
  {
   "cell_type": "markdown",
   "metadata": {},
   "source": [
    "### Active Days"
   ]
  },
  {
   "cell_type": "code",
   "execution_count": 32,
   "metadata": {},
   "outputs": [],
   "source": [
    "start_2014 = pd.to_datetime('2014-01-01')\n",
    "days_to_end = (start_2014 - predict_days)\n",
    "missing = {'Date':predict_days, 'Days to End':days_to_end.days, 'New Deals':y_predict}\n",
    "missing = pd.DataFrame(missing)"
   ]
  },
  {
   "cell_type": "code",
   "execution_count": 33,
   "metadata": {
    "scrolled": false
   },
   "outputs": [
    {
     "data": {
      "text/html": [
       "<div>\n",
       "<style scoped>\n",
       "    .dataframe tbody tr th:only-of-type {\n",
       "        vertical-align: middle;\n",
       "    }\n",
       "\n",
       "    .dataframe tbody tr th {\n",
       "        vertical-align: top;\n",
       "    }\n",
       "\n",
       "    .dataframe thead th {\n",
       "        text-align: right;\n",
       "    }\n",
       "</style>\n",
       "<table border=\"1\" class=\"dataframe\">\n",
       "  <thead>\n",
       "    <tr style=\"text-align: right;\">\n",
       "      <th></th>\n",
       "      <th>Date</th>\n",
       "      <th>Days to End</th>\n",
       "      <th>New Deals</th>\n",
       "    </tr>\n",
       "  </thead>\n",
       "  <tbody>\n",
       "    <tr>\n",
       "      <th>0</th>\n",
       "      <td>2013-10-20</td>\n",
       "      <td>73</td>\n",
       "      <td>475.265556</td>\n",
       "    </tr>\n",
       "    <tr>\n",
       "      <th>1</th>\n",
       "      <td>2013-10-21</td>\n",
       "      <td>72</td>\n",
       "      <td>572.612366</td>\n",
       "    </tr>\n",
       "    <tr>\n",
       "      <th>2</th>\n",
       "      <td>2013-10-22</td>\n",
       "      <td>71</td>\n",
       "      <td>582.461159</td>\n",
       "    </tr>\n",
       "    <tr>\n",
       "      <th>3</th>\n",
       "      <td>2013-10-23</td>\n",
       "      <td>70</td>\n",
       "      <td>595.930277</td>\n",
       "    </tr>\n",
       "    <tr>\n",
       "      <th>4</th>\n",
       "      <td>2013-10-24</td>\n",
       "      <td>69</td>\n",
       "      <td>616.980364</td>\n",
       "    </tr>\n",
       "    <tr>\n",
       "      <th>5</th>\n",
       "      <td>2013-10-25</td>\n",
       "      <td>68</td>\n",
       "      <td>595.112094</td>\n",
       "    </tr>\n",
       "    <tr>\n",
       "      <th>6</th>\n",
       "      <td>2013-10-26</td>\n",
       "      <td>67</td>\n",
       "      <td>514.937369</td>\n",
       "    </tr>\n",
       "    <tr>\n",
       "      <th>7</th>\n",
       "      <td>2013-10-27</td>\n",
       "      <td>66</td>\n",
       "      <td>475.265556</td>\n",
       "    </tr>\n",
       "    <tr>\n",
       "      <th>8</th>\n",
       "      <td>2013-10-28</td>\n",
       "      <td>65</td>\n",
       "      <td>572.612366</td>\n",
       "    </tr>\n",
       "    <tr>\n",
       "      <th>9</th>\n",
       "      <td>2013-10-29</td>\n",
       "      <td>64</td>\n",
       "      <td>582.461159</td>\n",
       "    </tr>\n",
       "    <tr>\n",
       "      <th>10</th>\n",
       "      <td>2013-10-30</td>\n",
       "      <td>63</td>\n",
       "      <td>595.930277</td>\n",
       "    </tr>\n",
       "  </tbody>\n",
       "</table>\n",
       "</div>"
      ],
      "text/plain": [
       "         Date  Days to End   New Deals\n",
       "0  2013-10-20           73  475.265556\n",
       "1  2013-10-21           72  572.612366\n",
       "2  2013-10-22           71  582.461159\n",
       "3  2013-10-23           70  595.930277\n",
       "4  2013-10-24           69  616.980364\n",
       "5  2013-10-25           68  595.112094\n",
       "6  2013-10-26           67  514.937369\n",
       "7  2013-10-27           66  475.265556\n",
       "8  2013-10-28           65  572.612366\n",
       "9  2013-10-29           64  582.461159\n",
       "10 2013-10-30           63  595.930277"
      ]
     },
     "execution_count": 33,
     "metadata": {},
     "output_type": "execute_result"
    }
   ],
   "source": [
    "missing"
   ]
  },
  {
   "cell_type": "markdown",
   "metadata": {},
   "source": [
    "### Average Daily Billings"
   ]
  },
  {
   "cell_type": "code",
   "execution_count": 34,
   "metadata": {},
   "outputs": [],
   "source": [
    "daily_billing_10_11 = local[(local['Start Date'] >= '2013-10-01')&(local['Start Date'] < '2013-12-01')]\n",
    "daily_billing_10_11_mean = daily_billing_10_11['Daily Billings'].mean()"
   ]
  },
  {
   "cell_type": "code",
   "execution_count": 35,
   "metadata": {},
   "outputs": [
    {
     "data": {
      "text/plain": [
       "103.13455463038575"
      ]
     },
     "execution_count": 35,
     "metadata": {},
     "output_type": "execute_result"
    }
   ],
   "source": [
    "daily_billing_10_11_mean"
   ]
  },
  {
   "cell_type": "code",
   "execution_count": 36,
   "metadata": {},
   "outputs": [],
   "source": [
    "misssing_billings = missing['Days to End']*missing['New Deals']*daily_billing_10_11_mean"
   ]
  },
  {
   "cell_type": "markdown",
   "metadata": {},
   "source": [
    "## Billings Estimate by Segment"
   ]
  },
  {
   "cell_type": "code",
   "execution_count": 37,
   "metadata": {},
   "outputs": [],
   "source": [
    "Local_billings = local['Billings'].sum() + misssing_billings.sum()\n",
    "\n",
    "Goods = df_cleaned[(df_cleaned['Segment'] == 'Goods')]\n",
    "Goods_billings = Goods['Billings'].sum() \n",
    "\n",
    "Travel = df_cleaned[(df_cleaned['Segment'] == 'Travel')]\n",
    "Travel_billings = Travel['Billings'].sum() \n",
    "\n",
    "Total_billings = df_cleaned['Billings'].sum() + misssing_billings.sum()"
   ]
  },
  {
   "cell_type": "code",
   "execution_count": 38,
   "metadata": {},
   "outputs": [
    {
     "name": "stdout",
     "output_type": "stream",
     "text": [
      "Gross billings of Local Segment： 452532531.1526092\n",
      "Gross billings of Goods Segment： 282245469.10132\n",
      "Gross billings of Travel Segment： 70547395.7245\n",
      "Total gross billings： 805325395.9784293\n"
     ]
    }
   ],
   "source": [
    "print('Gross billings of Local Segment：', Local_billings)\n",
    "print('Gross billings of Goods Segment：', Goods_billings)\n",
    "print('Gross billings of Travel Segment：', Travel_billings)\n",
    "print('Total gross billings：', Total_billings)"
   ]
  },
  {
   "cell_type": "code",
   "execution_count": 39,
   "metadata": {},
   "outputs": [
    {
     "data": {
      "text/plain": [
       "805325395.9784293"
      ]
     },
     "execution_count": 39,
     "metadata": {},
     "output_type": "execute_result"
    }
   ],
   "source": [
    "Local_billings + Goods_billings + Travel_billings"
   ]
  }
 ],
 "metadata": {
  "kernelspec": {
   "display_name": "Python 3",
   "language": "python",
   "name": "python3"
  },
  "language_info": {
   "codemirror_mode": {
    "name": "ipython",
    "version": 3
   },
   "file_extension": ".py",
   "mimetype": "text/x-python",
   "name": "python",
   "nbconvert_exporter": "python",
   "pygments_lexer": "ipython3",
   "version": "3.6.3"
  }
 },
 "nbformat": 4,
 "nbformat_minor": 2
}
